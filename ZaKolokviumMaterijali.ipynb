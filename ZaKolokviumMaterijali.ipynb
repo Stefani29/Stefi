{
 "cells": [
  {
   "cell_type": "code",
   "execution_count": 7,
   "id": "dd422c27-bb70-4cb7-abb0-e59235cddc68",
   "metadata": {},
   "outputs": [],
   "source": [
    "# Data Loading & Descriptive Statistics\n",
    "\n",
    "import pandas as pd\n",
    "\n",
    "df = pd.read_csv(r\"C:\\Users\\Lenovo\\Desktop\\FEIT\\6 Semestar\\Podatocna nauka i analiza na podatoci\\PNAP LABS\\PNAP 1 LAB\\owid-energy-codebook.csv\")\n",
    "\n",
    "df.shape # Ovaa funkcija vrakja tuple od dve vrednosti, prvata vrednost e broj na redici a vtorata vrednost e broj na koloni\n",
    "df.head()  # Funkcija koja gi prikazuva prvite 5 redici\n",
    "df.info() # Ovaa funkcija dava informacii za tipovi na podatoci, iminja na koloni\n",
    "df.describe() # Za sekoja kolona vrakja opredelena statisticka vrednost kako min max mean i slicno.\n",
    "df.dtypes # Za sekoja kolona kazuva kakov tip na podatok cuva"
   ]
  },
  {
   "cell_type": "code",
   "execution_count": null,
   "id": "8d99e6e3-bc68-458f-aec8-aa0e16834409",
   "metadata": {},
   "outputs": [],
   "source": [
    "# Handling Missing Values\n",
    "\n",
    "df.isnull().sum() # Vrakja broj na missing values vo sekoja kolona\n",
    "\n",
    "df.ffill(inplace=True) # Missing values da se popolnat so prethodno poznata i validna vrednost\n",
    "df.bfill(inplace=True) # So ovaa funkcija se popolnuvaat slednite missing values koristejki ja slednata poznnata i validna vrednost\n",
    "df.fillna(0, inplace=True) # Dokolku ostanat uste nekoi missing values, tie da se popolnat so nula"
   ]
  },
  {
   "cell_type": "code",
   "execution_count": null,
   "id": "9981541e-7498-4ee1-81b6-727bfcd6f298",
   "metadata": {},
   "outputs": [],
   "source": [
    "# Categorical Feature Encoding - Feature encoding is the process of converting categorical data into numerical values \n",
    "                                 #so that machine learning models can understand and process them. \n",
    "                                 #Below are the three main encoding techniques with examples."
   ]
  },
  {
   "cell_type": "code",
   "execution_count": 19,
   "id": "a860d33b-2c56-45ff-aab2-6ee0ff701436",
   "metadata": {},
   "outputs": [],
   "source": [
    "# One-Hot Encoding - Categories have no natural order (e.g., colors, countries).\n",
    "# ime_na_kolona = df['ime_na_feature'].unique() # Vo lista da se stavat site kontinenti koi gi ima vo kolonata continent\n",
    "# print(ime_na_kolona) # Istite da se ispecatat\n",
    "\n",
    "df1 = pd.DataFrame({'Color': ['Red', 'Green', 'Blue', 'Red']})\n",
    "# one_hot_encoded = pd.get_dummies(df1, columns=['Color'], dtype=int)\n",
    "# one_hot_encoded\n",
    "\n",
    "# ili\n",
    "one_hot_encoder = OneHotEncoder(sparse_output=False)\n",
    "encoded_array = one_hot_encoder.fit_transform(df[['Color']]) # data_dropped[[\"status\"]]\n",
    "one_hot_encoded = pd.DataFrame(encoded_array, columns=one_hot_encoder.get_feature_names_out(['Color']), dtype=int)\n",
    "\n",
    "one_hot_encoded"
   ]
  },
  {
   "cell_type": "code",
   "execution_count": 25,
   "id": "a61f3c40-c10b-43ea-bd92-3ed90b5d826d",
   "metadata": {},
   "outputs": [],
   "source": [
    "# Label Encoding - Categories have some meaning but no strict order (e.g., product IDs).\n",
    "\n",
    "from sklearn.preprocessing import LabelEncoder\n",
    "\n",
    "df2 = pd.DataFrame({'Color': ['Red', 'Green', 'Blue', 'Red']})\n",
    "\n",
    "label_encoder = LabelEncoder()\n",
    "df2['Color_Encoded'] = label_encoder.fit_transform(df2['Color'])\n",
    "df2"
   ]
  },
  {
   "cell_type": "code",
   "execution_count": 31,
   "id": "7f1cb0a5-f0fc-4f37-a84c-a9a2cb05ec50",
   "metadata": {},
   "outputs": [],
   "source": [
    "# Ordinal Encoding - Categories have a meaningful order (e.g., education levels, shirt sizes).\n",
    "from sklearn.preprocessing import OrdinalEncoder\n",
    "\n",
    "df3 = pd.DataFrame({'Size': ['Small', 'Medium', 'Large', 'Small']})\n",
    "ordinal_encoder = OrdinalEncoder(categories=[['Small', 'Medium', 'Large']])\n",
    "df3['Size_Encoded'] = ordinal_encoder.fit_transform(df3[['Size']])\n",
    "df3"
   ]
  },
  {
   "cell_type": "code",
   "execution_count": null,
   "id": "1d558b36-d63d-4510-b7b8-faef3e94a445",
   "metadata": {},
   "outputs": [],
   "source": [
    "# Data Scaling"
   ]
  },
  {
   "cell_type": "code",
   "execution_count": 33,
   "id": "2b6b1dbb-1370-440f-8e58-e76e96ed9553",
   "metadata": {},
   "outputs": [],
   "source": [
    "# Normalization - anging between 0 and 1. It is also known as Min-Max scaling.\n",
    "from sklearn.preprocessing import MinMaxScaler \n",
    "\n",
    "for_Normalization = df.select_dtypes(include=['float64', 'int64']).columns \n",
    "                                                                            \n",
    "scaler_minmax = MinMaxScaler()\n",
    "df_normalized = df.copy()\n",
    "df_normalized[for_Normalization] = scaler_minmax.fit_transform(df[for_Normalization])\n",
    "df_normalized"
   ]
  },
  {
   "cell_type": "code",
   "execution_count": null,
   "id": "c9324a72-eba3-4b90-bf94-3380a2978cf1",
   "metadata": {},
   "outputs": [],
   "source": [
    "# Standardization - the values are centered around the mean with a unit standard deviation\n",
    "from sklearn.preprocessing import StandardScaler\n",
    "\n",
    "for_standardization = df.select_dtypes(include=['float64', 'int64']).columns # Se odvojuvaat samo kolonite koi imaat podatoci od\n",
    "                                                                             # tip float i integer\n",
    "                                                                                \n",
    "scaler_standard = StandardScaler() \n",
    "df_standardized = df.copy() # Za da ne se pravi standardizacija direktno na df, se pravi kopija\n",
    "df_standardized[for_standardization] = scaler_standard.fit_transform(df[for_standardization])\n",
    "df_standardized"
   ]
  },
  {
   "cell_type": "code",
   "execution_count": null,
   "id": "74a2a23f-77ef-495e-bb34-8fc89fb15580",
   "metadata": {},
   "outputs": [],
   "source": [
    "# Data Visualization"
   ]
  },
  {
   "cell_type": "code",
   "execution_count": null,
   "id": "fe2cec62-1671-4d03-a571-44307b5f811d",
   "metadata": {},
   "outputs": [],
   "source": [
    "# Ako sakame za edna specificna vrednost na eden feature, da se pokazat site ostanati negovi features\n",
    "spec_vrednost = \"Imeto na vrednosta\" # Boja, broj, drzava, golemina...\n",
    "df_spec_vrednost = df[df[\"Ime na feature-ot\"] == spec_vrednost] # Kreiranje na nov DataFrame samo so taa vrednost na toj feature\n",
    "df_spec_vrednost"
   ]
  },
  {
   "cell_type": "code",
   "execution_count": null,
   "id": "fe99c0f4-0f42-42ba-b0dc-aceadb3573c9",
   "metadata": {},
   "outputs": [],
   "source": [
    "# Correlation Matrix\n",
    "# A correlation matrix is a table showing correlation coefficients between variables.\n",
    "# 1 → Perfect positive correlation (when one variable increases, the other also increases).\n",
    "# 0 → No correlation.\n",
    "# -1 → Perfect negative correlation (when one variable increases, the other decreases).\n",
    "import numpy as np\n",
    "import pandas as pd\n",
    "import matplotlib.pyplot as plt\n",
    "\n",
    "# Ensure df is defined before running this script\n",
    "# Example: df = pd.read_csv(\"your_data.csv\")\n",
    "\n",
    "# Select only numerical columns (int and float types) from the DataFrame\n",
    "nn = df.select_dtypes(include=['float64', 'int64']).columns  \n",
    "\n",
    "# Check if numerical columns exist\n",
    "if len(nn) == 0:\n",
    "    print(\"No numerical columns found in the DataFrame.\")\n",
    "else:\n",
    "    # Compute the correlation matrix for numerical columns\n",
    "    correlation_matrix = df[nn].corr()\n",
    "\n",
    "    # Print the correlation matrix as a numerical table\n",
    "    print(correlation_matrix)\n",
    "\n",
    "    # Create a figure and axis for plotting\n",
    "    fig, ax = plt.subplots(figsize=(10, 8))  # Set figure size\n",
    "\n",
    "    # Plot the correlation matrix as a heatmap using a color map ('coolwarm')\n",
    "    cax = ax.matshow(correlation_matrix, cmap='coolwarm')\n",
    "\n",
    "    # Add a color bar to indicate correlation values\n",
    "    plt.colorbar(cax)\n",
    "\n",
    "    # Set tick positions for the axes\n",
    "    ax.set_xticks(np.arange(len(nn)))  # Set x-ticks\n",
    "    ax.set_yticks(np.arange(len(nn)))  # Set y-ticks\n",
    "\n",
    "    # Label the ticks with the column names\n",
    "    ax.set_xticklabels(nn, rotation=90, ha='left')  # Improve readability\n",
    "    ax.set_yticklabels(nn)  \n",
    "\n",
    "    # Add a title to the plot\n",
    "    plt.title(\"Correlation Matrix\", pad=20)  \n",
    "\n",
    "    # Display the correlation matrix heatmap\n",
    "    plt.show()"
   ]
  },
  {
   "cell_type": "code",
   "execution_count": null,
   "id": "f8fbfc5a-f776-422d-a48c-b364608f149a",
   "metadata": {},
   "outputs": [],
   "source": [
    "# Line Ploy\n",
    "import pandas as pd\n",
    "import matplotlib.pyplot as plt\n",
    "\n",
    "# Sample DataFrame\n",
    "data = {\n",
    "    'Year': [2018, 2019, 2020, 2021, 2022],\n",
    "    'Sales': [100, 200, 300, 250, 400]\n",
    "}\n",
    "\n",
    "df = pd.DataFrame(data)\n",
    "\n",
    "# Plot a line chart\n",
    "df.plot(x='Year', y='Sales', kind='line', marker='o', linestyle='-', color='b')\n",
    "\n",
    "# Add labels and title\n",
    "plt.xlabel(\"Year\")\n",
    "plt.ylabel(\"Sales\")\n",
    "plt.title(\"Sales Over Time\")\n",
    "plt.grid(True)  # Show grid lines\n",
    "plt.legend()\n",
    "plt.show()\n",
    "\n",
    "\n",
    "\n",
    "# .............................\n",
    "drzavi = ['China', 'Germany', 'India', 'United Kingdom', 'United States']\n",
    "\n",
    "for country in drzavi:\n",
    "    df_country = df[df['country'] == country]  # Se razgleduvaat year i electricity generation za konkretna drzava\n",
    "    plt.figure(figsize=(6, 4))  \n",
    "    plt.plot(df_country['year'], df_country['electricity_generation'], marker='o', linestyle='-')\n",
    "#   plt.scatter(country_data['gdp'], country_data['primary_energy_consumption'], label=country)\n",
    "    \n",
    "    plt.title(f'Electricity Generation in {country}', fontsize=10)\n",
    "    plt.xlabel('Year')\n",
    "    plt.ylabel('Electricity Generation')\n",
    "    plt.grid(True)\n",
    "    \n",
    "    plt.show()"
   ]
  },
  {
   "cell_type": "code",
   "execution_count": null,
   "id": "57c46c82-2b62-4b4f-869b-1e0a0943dcd7",
   "metadata": {},
   "outputs": [],
   "source": [
    "# Bar Plot\n",
    "data = {\n",
    "    'Category': ['A', 'B', 'C', 'D'],\n",
    "    'Values': [23, 45, 12, 67]\n",
    "}\n",
    "\n",
    "df = pd.DataFrame(data)\n",
    "\n",
    "# Plot a bar chart\n",
    "df.plot(x='Category', y='Values', kind='bar', color='green', legend=False)\n",
    "\n",
    "# Add labels and title\n",
    "plt.xlabel(\"Category\")\n",
    "plt.ylabel(\"Values\")\n",
    "plt.title(\"Category-wise Values\")\n",
    "\n",
    "plt.show()"
   ]
  },
  {
   "cell_type": "code",
   "execution_count": null,
   "id": "3a8aab98-5e9a-41d9-b68c-58f7b4f1be5b",
   "metadata": {},
   "outputs": [],
   "source": [
    "# Box Plot\n",
    "data = {\n",
    "    'A': [10, 20, 30, 40, 50, 60, 70, 80, 90, 100],\n",
    "    'B': [5, 15, 25, 35, 45, 55, 65, 75, 85, 95],\n",
    "    'C': [1, 2, 3, 4, 5, 6, 7, 8, 9, 10]\n",
    "}\n",
    "\n",
    "df = pd.DataFrame(data)\n",
    "\n",
    "# Plot a boxplot\n",
    "df.plot(kind='box')\n",
    "\n",
    "# Add title\n",
    "plt.title(\"Box Plot of A, B, and C\")\n",
    "\n",
    "plt.show()"
   ]
  }
 ],
 "metadata": {
  "kernelspec": {
   "display_name": "Python [conda env:base] *",
   "language": "python",
   "name": "conda-base-py"
  },
  "language_info": {
   "codemirror_mode": {
    "name": "ipython",
    "version": 3
   },
   "file_extension": ".py",
   "mimetype": "text/x-python",
   "name": "python",
   "nbconvert_exporter": "python",
   "pygments_lexer": "ipython3",
   "version": "3.12.7"
  }
 },
 "nbformat": 4,
 "nbformat_minor": 5
}
